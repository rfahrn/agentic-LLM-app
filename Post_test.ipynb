{
 "cells": [
  {
   "cell_type": "code",
   "execution_count": null,
   "id": "a0d75c8c",
   "metadata": {},
   "outputs": [],
   "source": []
  },
  {
   "cell_type": "code",
   "execution_count": 1,
   "id": "d4b13447",
   "metadata": {},
   "outputs": [
    {
     "ename": "OperationalError",
     "evalue": "('08001', '[08001] [Microsoft][ODBC SQL Server Driver][DBNETLIB]SQL Server existiert nicht oder Zugriff verweigert. (17) (SQLDriverConnect); [08001] [Microsoft][ODBC SQL Server Driver][DBNETLIB]ConnectionOpen (Connect()). (67)')",
     "output_type": "error",
     "traceback": [
      "\u001b[1;31m---------------------------------------------------------------------------\u001b[0m",
      "\u001b[1;31mOperationalError\u001b[0m                          Traceback (most recent call last)",
      "Cell \u001b[1;32mIn[1], line 17\u001b[0m\n\u001b[0;32m     10\u001b[0m password \u001b[38;5;241m=\u001b[39m os\u001b[38;5;241m.\u001b[39mgetenv(\u001b[38;5;124m\"\u001b[39m\u001b[38;5;124mPWD\u001b[39m\u001b[38;5;124m\"\u001b[39m)\n\u001b[0;32m     12\u001b[0m conn_str \u001b[38;5;241m=\u001b[39m (\n\u001b[0;32m     13\u001b[0m     \u001b[38;5;124mf\u001b[39m\u001b[38;5;124m'\u001b[39m\u001b[38;5;124mDRIVER=\u001b[39m\u001b[38;5;130;01m{{\u001b[39;00m\u001b[38;5;124mSQL Server\u001b[39m\u001b[38;5;130;01m}}\u001b[39;00m\u001b[38;5;124m;\u001b[39m\u001b[38;5;124m'\u001b[39m\n\u001b[0;32m     14\u001b[0m     \u001b[38;5;124mf\u001b[39m\u001b[38;5;124m'\u001b[39m\u001b[38;5;124mSERVER=\u001b[39m\u001b[38;5;132;01m{\u001b[39;00mserver\u001b[38;5;132;01m}\u001b[39;00m\u001b[38;5;124m;\u001b[39m\u001b[38;5;124m'\u001b[39m\n\u001b[0;32m     15\u001b[0m     \u001b[38;5;124mf\u001b[39m\u001b[38;5;124m'\u001b[39m\u001b[38;5;124mDATABASE=\u001b[39m\u001b[38;5;132;01m{\u001b[39;00mdatabase\u001b[38;5;132;01m}\u001b[39;00m\u001b[38;5;124m;\u001b[39m\u001b[38;5;124m'\u001b[39m\n\u001b[0;32m     16\u001b[0m     \u001b[38;5;124mf\u001b[39m\u001b[38;5;124m'\u001b[39m\u001b[38;5;124mTrusted_Connection=yes;\u001b[39m\u001b[38;5;124m'\u001b[39m)\n\u001b[1;32m---> 17\u001b[0m conn \u001b[38;5;241m=\u001b[39m \u001b[43mpyodbc\u001b[49m\u001b[38;5;241;43m.\u001b[39;49m\u001b[43mconnect\u001b[49m\u001b[43m(\u001b[49m\u001b[43mconn_str\u001b[49m\u001b[43m)\u001b[49m\n\u001b[0;32m     18\u001b[0m cursor \u001b[38;5;241m=\u001b[39m conn\u001b[38;5;241m.\u001b[39mcursor()\n\u001b[0;32m     20\u001b[0m cursor\u001b[38;5;241m.\u001b[39mexecute(\u001b[38;5;124m\"\u001b[39m\u001b[38;5;124mSELECT * FROM [SAS].[dbo].[F564205A]\u001b[39m\u001b[38;5;124m\"\u001b[39m) \u001b[38;5;66;03m# tabelle top_products\u001b[39;00m\n",
      "\u001b[1;31mOperationalError\u001b[0m: ('08001', '[08001] [Microsoft][ODBC SQL Server Driver][DBNETLIB]SQL Server existiert nicht oder Zugriff verweigert. (17) (SQLDriverConnect); [08001] [Microsoft][ODBC SQL Server Driver][DBNETLIB]ConnectionOpen (Connect()). (67)')"
     ]
    }
   ],
   "source": [
    "import pyodbc\n",
    "from dotenv import load_dotenv\n",
    "load_dotenv()\n",
    "import os\n",
    "import pandas as pd\n",
    "\n",
    "server = os.getenv(\"MSQL_Server\")  \n",
    "database = 'SAS'\n",
    "username = os.getenv(\"USERNAME\")\n",
    "password = os.getenv(\"PWD\")\n",
    "\n",
    "conn_str = (\n",
    "    f'DRIVER={{SQL Server}};'\n",
    "    f'SERVER={server};'\n",
    "    f'DATABASE={database};'\n",
    "    f'Trusted_Connection=yes;')\n",
    "conn = pyodbc.connect(conn_str)\n",
    "cursor = conn.cursor()\n",
    "\n",
    "cursor.execute(\"SELECT * FROM [SAS].[dbo].[F564205A]\") # tabelle top_products\n",
    "rows = cursor.fetchall()\n",
    "\n",
    "df = pd.DataFrame.from_records(rows, columns=[desc[0] for desc in cursor.description])\n",
    "\n",
    "print(df)\n",
    "cursor.close()\n",
    "conn.close()\n"
   ]
  },
  {
   "cell_type": "code",
   "execution_count": 4,
   "id": "e7f914e6",
   "metadata": {},
   "outputs": [
    {
     "ename": "OperationalError",
     "evalue": "('08001', '[08001] [Microsoft][ODBC SQL Server Driver][DBNETLIB]SQL Server existiert nicht oder Zugriff verweigert. (17) (SQLDriverConnect); [08001] [Microsoft][ODBC SQL Server Driver][DBNETLIB]ConnectionOpen (Connect()). (67)')",
     "output_type": "error",
     "traceback": [
      "\u001b[1;31m---------------------------------------------------------------------------\u001b[0m",
      "\u001b[1;31mOperationalError\u001b[0m                          Traceback (most recent call last)",
      "Cell \u001b[1;32mIn[4], line 17\u001b[0m\n\u001b[0;32m     10\u001b[0m password \u001b[38;5;241m=\u001b[39m os\u001b[38;5;241m.\u001b[39mgetenv(\u001b[38;5;124m\"\u001b[39m\u001b[38;5;124mPWD\u001b[39m\u001b[38;5;124m\"\u001b[39m)\n\u001b[0;32m     12\u001b[0m conn_str \u001b[38;5;241m=\u001b[39m (\n\u001b[0;32m     13\u001b[0m     \u001b[38;5;124mf\u001b[39m\u001b[38;5;124m'\u001b[39m\u001b[38;5;124mDRIVER=\u001b[39m\u001b[38;5;130;01m{{\u001b[39;00m\u001b[38;5;124mSQL Server\u001b[39m\u001b[38;5;130;01m}}\u001b[39;00m\u001b[38;5;124m;\u001b[39m\u001b[38;5;124m'\u001b[39m\n\u001b[0;32m     14\u001b[0m     \u001b[38;5;124mf\u001b[39m\u001b[38;5;124m'\u001b[39m\u001b[38;5;124mSERVER=\u001b[39m\u001b[38;5;132;01m{\u001b[39;00mserver\u001b[38;5;132;01m}\u001b[39;00m\u001b[38;5;124m;\u001b[39m\u001b[38;5;124m'\u001b[39m\n\u001b[0;32m     15\u001b[0m     \u001b[38;5;124mf\u001b[39m\u001b[38;5;124m'\u001b[39m\u001b[38;5;124mDATABASE=\u001b[39m\u001b[38;5;132;01m{\u001b[39;00mdatabase\u001b[38;5;132;01m}\u001b[39;00m\u001b[38;5;124m;\u001b[39m\u001b[38;5;124m'\u001b[39m\n\u001b[0;32m     16\u001b[0m     \u001b[38;5;124mf\u001b[39m\u001b[38;5;124m'\u001b[39m\u001b[38;5;124mTrusted_Connection=yes;\u001b[39m\u001b[38;5;124m'\u001b[39m)\n\u001b[1;32m---> 17\u001b[0m conn \u001b[38;5;241m=\u001b[39m \u001b[43mpyodbc\u001b[49m\u001b[38;5;241;43m.\u001b[39;49m\u001b[43mconnect\u001b[49m\u001b[43m(\u001b[49m\u001b[43mconn_str\u001b[49m\u001b[43m)\u001b[49m\n\u001b[0;32m     18\u001b[0m cursor \u001b[38;5;241m=\u001b[39m conn\u001b[38;5;241m.\u001b[39mcursor()\n\u001b[0;32m     20\u001b[0m cursor\u001b[38;5;241m.\u001b[39mexecute(\u001b[38;5;124m\"\u001b[39m\u001b[38;5;124mSELECT * FROM [SAS].[dbo].[top_products]\u001b[39m\u001b[38;5;124m\"\u001b[39m)\n",
      "\u001b[1;31mOperationalError\u001b[0m: ('08001', '[08001] [Microsoft][ODBC SQL Server Driver][DBNETLIB]SQL Server existiert nicht oder Zugriff verweigert. (17) (SQLDriverConnect); [08001] [Microsoft][ODBC SQL Server Driver][DBNETLIB]ConnectionOpen (Connect()). (67)')"
     ]
    }
   ],
   "source": [
    "import pyodbc\n",
    "from dotenv import load_dotenv\n",
    "load_dotenv()\n",
    "import os\n",
    "import pandas as pd\n",
    "\n",
    "server = os.getenv(\"MSQL_Server\")  \n",
    "database = 'SAS'\n",
    "username = os.getenv(\"USERNAME\")\n",
    "password = os.getenv(\"PWD\")\n",
    "\n",
    "conn_str = (\n",
    "    f'DRIVER={{SQL Server}};'\n",
    "    f'SERVER={server};'\n",
    "    f'DATABASE={database};'\n",
    "    f'Trusted_Connection=yes;')\n",
    "conn = pyodbc.connect(conn_str)\n",
    "cursor = conn.cursor()\n",
    "\n",
    "cursor.execute(\"SELECT * FROM [SAS].[dbo].[top_products]\")\n",
    "rows = cursor.fetchall()\n",
    "\n",
    "df = pd.DataFrame.from_records(rows, columns=[desc[0] for desc in cursor.description])\n",
    "\n",
    "print(df)\n",
    "cursor.close()\n",
    "conn.close()\n"
   ]
  },
  {
   "cell_type": "code",
   "execution_count": 2,
   "id": "6d486553",
   "metadata": {},
   "outputs": [
    {
     "ename": "Error",
     "evalue": "('IM014', '[IM014] [Microsoft][ODBC Driver Manager] Der angegebene DSN weist eine nicht übereinstimmende Architektur von Treiber und Anwendung auf. (0) (SQLDriverConnect)')",
     "output_type": "error",
     "traceback": [
      "\u001b[1;31m---------------------------------------------------------------------------\u001b[0m",
      "\u001b[1;31mError\u001b[0m                                     Traceback (most recent call last)",
      "Cell \u001b[1;32mIn[2], line 10\u001b[0m\n\u001b[0;32m      7\u001b[0m driver \u001b[38;5;241m=\u001b[39m \u001b[38;5;124m'\u001b[39m\u001b[38;5;124mOracle in OraClient12Home1\u001b[39m\u001b[38;5;124m'\u001b[39m\n\u001b[0;32m      9\u001b[0m conn_str \u001b[38;5;241m=\u001b[39m \u001b[38;5;124mf\u001b[39m\u001b[38;5;124m'\u001b[39m\u001b[38;5;124mDSN=\u001b[39m\u001b[38;5;132;01m{\u001b[39;00mdsn\u001b[38;5;132;01m}\u001b[39;00m\u001b[38;5;124m;UID=\u001b[39m\u001b[38;5;132;01m{\u001b[39;00muser\u001b[38;5;132;01m}\u001b[39;00m\u001b[38;5;124m;PWD=\u001b[39m\u001b[38;5;132;01m{\u001b[39;00mpassword\u001b[38;5;132;01m}\u001b[39;00m\u001b[38;5;124m;Server=\u001b[39m\u001b[38;5;132;01m{\u001b[39;00mserver\u001b[38;5;132;01m}\u001b[39;00m\u001b[38;5;124m,Driver = \u001b[39m\u001b[38;5;132;01m{\u001b[39;00mdriver\u001b[38;5;132;01m}\u001b[39;00m\u001b[38;5;124m'\u001b[39m\n\u001b[1;32m---> 10\u001b[0m conn \u001b[38;5;241m=\u001b[39m \u001b[43mpyodbc\u001b[49m\u001b[38;5;241;43m.\u001b[39;49m\u001b[43mconnect\u001b[49m\u001b[43m(\u001b[49m\u001b[43mconn_str\u001b[49m\u001b[43m)\u001b[49m\n\u001b[0;32m     11\u001b[0m \u001b[38;5;66;03m# print drivers \u001b[39;00m\n\u001b[0;32m     12\u001b[0m \u001b[38;5;28mprint\u001b[39m(pyodbc\u001b[38;5;241m.\u001b[39mdrivers())\n",
      "\u001b[1;31mError\u001b[0m: ('IM014', '[IM014] [Microsoft][ODBC Driver Manager] Der angegebene DSN weist eine nicht übereinstimmende Architektur von Treiber und Anwendung auf. (0) (SQLDriverConnect)')"
     ]
    }
   ],
   "source": [
    "import pyodbc\n",
    "\n",
    "dsn = 'SAS'\n",
    "user = 'SAS'\n",
    "password = 'welcome'\n",
    "server = 'JDEEXT01.MEDISERVICE.CH'\n",
    "driver = 'Oracle in OraClient12Home1'\n",
    "\n",
    "conn_str = f'DSN={dsn};UID={user};PWD={password};Server={server},Driver = {driver}'\n",
    "conn = pyodbc.connect(conn_str)\n",
    "# print drivers \n",
    "print(pyodbc.drivers())\n",
    "\n",
    "cursor = conn.cursor()\n",
    "cursor.execute(\"SELECT * FROM PROXY_JDE11_PRODDTA.ATC_CODES\")\n",
    "for row in cursor.fetchall():\n",
    "    print(row)\n",
    "\n",
    "cursor.close()\n",
    "conn.close()\n"
   ]
  },
  {
   "cell_type": "code",
   "execution_count": 4,
   "id": "a84de9d6",
   "metadata": {},
   "outputs": [
    {
     "name": "stdout",
     "output_type": "stream",
     "text": [
      "('64bit', 'WindowsPE')\n",
      "['SQL Server', 'Oracle in OraClient12Home1']\n"
     ]
    }
   ],
   "source": [
    "import platform\n",
    "print(platform.architecture())\n",
    "import pyodbc\n",
    "print(pyodbc.drivers())\n"
   ]
  },
  {
   "cell_type": "code",
   "execution_count": 6,
   "id": "b9b75865",
   "metadata": {},
   "outputs": [
    {
     "ename": "DatabaseError",
     "evalue": "DPY-4027: no configuration directory specified",
     "output_type": "error",
     "traceback": [
      "\u001b[1;31m---------------------------------------------------------------------------\u001b[0m",
      "\u001b[1;31mDatabaseError\u001b[0m                             Traceback (most recent call last)",
      "Cell \u001b[1;32mIn[6], line 4\u001b[0m\n\u001b[0;32m      1\u001b[0m \u001b[38;5;28;01mimport\u001b[39;00m\u001b[38;5;250m \u001b[39m\u001b[38;5;21;01moracledb\u001b[39;00m  \u001b[38;5;66;03m# oder import cx_Oracle\u001b[39;00m\n\u001b[0;32m      3\u001b[0m \u001b[38;5;66;03m# Verbindet sich über den TNS-Eintrag\u001b[39;00m\n\u001b[1;32m----> 4\u001b[0m connection \u001b[38;5;241m=\u001b[39m \u001b[43moracledb\u001b[49m\u001b[38;5;241;43m.\u001b[39;49m\u001b[43mconnect\u001b[49m\u001b[43m(\u001b[49m\n\u001b[0;32m      5\u001b[0m \u001b[43m    \u001b[49m\u001b[43muser\u001b[49m\u001b[43m \u001b[49m\u001b[38;5;241;43m=\u001b[39;49m\u001b[43m \u001b[49m\u001b[38;5;124;43m'\u001b[39;49m\u001b[38;5;124;43mSAS\u001b[39;49m\u001b[38;5;124;43m'\u001b[39;49m\u001b[43m,\u001b[49m\n\u001b[0;32m      6\u001b[0m \u001b[43m    \u001b[49m\u001b[43mpassword\u001b[49m\u001b[43m \u001b[49m\u001b[38;5;241;43m=\u001b[39;49m\u001b[43m \u001b[49m\u001b[38;5;124;43m'\u001b[39;49m\u001b[38;5;124;43mwelcome\u001b[39;49m\u001b[38;5;124;43m'\u001b[39;49m\u001b[43m,\u001b[49m\n\u001b[0;32m      7\u001b[0m \u001b[43m    \u001b[49m\u001b[43mdsn\u001b[49m\u001b[43m \u001b[49m\u001b[38;5;241;43m=\u001b[39;49m\u001b[43m \u001b[49m\u001b[38;5;124;43m\"\u001b[39;49m\u001b[38;5;124;43mJDE11.MEDISERVICE.CH\u001b[39;49m\u001b[38;5;124;43m\"\u001b[39;49m\u001b[43m  \u001b[49m\u001b[38;5;66;43;03m# wie in tnsnames.ora definiert\u001b[39;49;00m\n\u001b[0;32m      8\u001b[0m \u001b[43m)\u001b[49m\n",
      "File \u001b[1;32mc:\\Users\\FahRe\\Desktop\\agentic-LLM-app\\.venv\\Lib\\site-packages\\oracledb\\connection.py:1264\u001b[0m, in \u001b[0;36m_connection_factory.<locals>.connect\u001b[1;34m(dsn, pool, pool_alias, conn_class, params, **kwargs)\u001b[0m\n\u001b[0;32m   1262\u001b[0m     message \u001b[38;5;241m=\u001b[39m \u001b[38;5;124m\"\u001b[39m\u001b[38;5;124mpool must be an instance of oracledb.ConnectionPool\u001b[39m\u001b[38;5;124m\"\u001b[39m\n\u001b[0;32m   1263\u001b[0m     \u001b[38;5;28;01mraise\u001b[39;00m \u001b[38;5;167;01mTypeError\u001b[39;00m(message)\n\u001b[1;32m-> 1264\u001b[0m \u001b[38;5;28;01mreturn\u001b[39;00m \u001b[43mconn_class\u001b[49m\u001b[43m(\u001b[49m\u001b[43mdsn\u001b[49m\u001b[38;5;241;43m=\u001b[39;49m\u001b[43mdsn\u001b[49m\u001b[43m,\u001b[49m\u001b[43m \u001b[49m\u001b[43mpool\u001b[49m\u001b[38;5;241;43m=\u001b[39;49m\u001b[43mpool\u001b[49m\u001b[43m,\u001b[49m\u001b[43m \u001b[49m\u001b[43mparams\u001b[49m\u001b[38;5;241;43m=\u001b[39;49m\u001b[43mparams\u001b[49m\u001b[43m,\u001b[49m\u001b[43m \u001b[49m\u001b[38;5;241;43m*\u001b[39;49m\u001b[38;5;241;43m*\u001b[39;49m\u001b[43mkwargs\u001b[49m\u001b[43m)\u001b[49m\n",
      "File \u001b[1;32mc:\\Users\\FahRe\\Desktop\\agentic-LLM-app\\.venv\\Lib\\site-packages\\oracledb\\connection.py:625\u001b[0m, in \u001b[0;36mConnection.__init__\u001b[1;34m(self, dsn, pool, params, **kwargs)\u001b[0m\n\u001b[0;32m    623\u001b[0m \u001b[38;5;28;01melse\u001b[39;00m:\n\u001b[0;32m    624\u001b[0m     params_impl \u001b[38;5;241m=\u001b[39m params\u001b[38;5;241m.\u001b[39m_impl\u001b[38;5;241m.\u001b[39mcopy()\n\u001b[1;32m--> 625\u001b[0m dsn \u001b[38;5;241m=\u001b[39m \u001b[43mparams_impl\u001b[49m\u001b[38;5;241;43m.\u001b[39;49m\u001b[43mprocess_args\u001b[49m\u001b[43m(\u001b[49m\u001b[43mdsn\u001b[49m\u001b[43m,\u001b[49m\u001b[43m \u001b[49m\u001b[43mkwargs\u001b[49m\u001b[43m,\u001b[49m\u001b[43m \u001b[49m\u001b[43mthin\u001b[49m\u001b[43m)\u001b[49m\n\u001b[0;32m    627\u001b[0m \u001b[38;5;66;03m# see if connection is being acquired from a pool\u001b[39;00m\n\u001b[0;32m    628\u001b[0m \u001b[38;5;28;01mif\u001b[39;00m pool \u001b[38;5;129;01mis\u001b[39;00m \u001b[38;5;28;01mNone\u001b[39;00m:\n",
      "File \u001b[1;32msrc/oracledb/impl/base/connect_params.pyx:563\u001b[0m, in \u001b[0;36moracledb.base_impl.ConnectParamsImpl.process_args\u001b[1;34m()\u001b[0m\n",
      "File \u001b[1;32msrc/oracledb/impl/base/connect_params.pyx:498\u001b[0m, in \u001b[0;36moracledb.base_impl.ConnectParamsImpl.parse_connect_string\u001b[1;34m()\u001b[0m\n",
      "File \u001b[1;32msrc/oracledb/impl/base/connect_params.pyx:496\u001b[0m, in \u001b[0;36moracledb.base_impl.ConnectParamsImpl.parse_connect_string\u001b[1;34m()\u001b[0m\n",
      "File \u001b[1;32msrc/oracledb/impl/base/connect_params.pyx:325\u001b[0m, in \u001b[0;36moracledb.base_impl.ConnectParamsImpl._parse_connect_string\u001b[1;34m()\u001b[0m\n",
      "File \u001b[1;32msrc/oracledb/impl/base/connect_params.pyx:1206\u001b[0m, in \u001b[0;36moracledb.base_impl.TnsnamesFileReader.read_tnsnames\u001b[1;34m()\u001b[0m\n",
      "File \u001b[1;32mc:\\Users\\FahRe\\Desktop\\agentic-LLM-app\\.venv\\Lib\\site-packages\\oracledb\\errors.py:199\u001b[0m, in \u001b[0;36m_raise_err\u001b[1;34m(error_num, context_error_message, cause, **args)\u001b[0m\n\u001b[0;32m    194\u001b[0m \u001b[38;5;250m\u001b[39m\u001b[38;5;124;03m\"\"\"\u001b[39;00m\n\u001b[0;32m    195\u001b[0m \u001b[38;5;124;03mRaises a driver specific exception from the specified error number and\u001b[39;00m\n\u001b[0;32m    196\u001b[0m \u001b[38;5;124;03msupplied arguments.\u001b[39;00m\n\u001b[0;32m    197\u001b[0m \u001b[38;5;124;03m\"\"\"\u001b[39;00m\n\u001b[0;32m    198\u001b[0m error \u001b[38;5;241m=\u001b[39m _create_err(error_num, context_error_message, cause, \u001b[38;5;241m*\u001b[39m\u001b[38;5;241m*\u001b[39margs)\n\u001b[1;32m--> 199\u001b[0m \u001b[38;5;28;01mraise\u001b[39;00m error\u001b[38;5;241m.\u001b[39mexc_type(error) \u001b[38;5;28;01mfrom\u001b[39;00m\u001b[38;5;250m \u001b[39m\u001b[38;5;21;01mcause\u001b[39;00m\n",
      "\u001b[1;31mDatabaseError\u001b[0m: DPY-4027: no configuration directory specified"
     ]
    }
   ],
   "source": [
    "import oracledb  # oder import cx_Oracle\n",
    "\n",
    "# Verbindet sich über den TNS-Eintrag\n",
    "connection = oracledb.connect(\n",
    "    user = 'SAS',\n",
    "    password = 'welcome',\n",
    "    dsn = \"JDE11.MEDISERVICE.CH\"  # wie in tnsnames.ora definiert\n",
    ")\n"
   ]
  },
  {
   "cell_type": "code",
   "execution_count": 12,
   "id": "3633934e",
   "metadata": {},
   "outputs": [
    {
     "name": "stdout",
     "output_type": "stream",
     "text": [
      "Dafalgan, das Paracetamol enthält, kann verschiedene Nebenwirkungen haben. Zu den häufigen gehört Erbrechen. Selten können Hautrötungen, allergische Reaktionen, Atembeschwerden, Veränderungen des Blutbildes und bestimmte Formen der Blutarmut auftreten. Sehr selten sind schwere Hauterkrankungen möglich.\n",
      "\n",
      "Bei unkontrollierter Einnahme kann es zu einer Überdosierung kommen, die ernsthafte Leberschäden verursachen kann. Symptome sind Übelkeit, Erbrechen und Bauchschmerzen. Bei Auftreten von Nebenwirkungen oder vermuteter Überdosierung sollte umgehend ein Arzt konsultiert werden.\n",
      "\n",
      "Für weitere Details und spezifische medizinische Beratung sollten Sie Ihren Arzt oder Apotheker kontaktieren.\n"
     ]
    },
    {
     "ename": "AttributeError",
     "evalue": "'RunResult' object has no attribute 'output_items'",
     "output_type": "error",
     "traceback": [
      "\u001b[1;31m---------------------------------------------------------------------------\u001b[0m",
      "\u001b[1;31mAttributeError\u001b[0m                            Traceback (most recent call last)",
      "Cell \u001b[1;32mIn[12], line 48\u001b[0m\n\u001b[0;32m     44\u001b[0m         \u001b[38;5;28;01mfor\u001b[39;00m url \u001b[38;5;129;01min\u001b[39;00m urls:\n\u001b[0;32m     45\u001b[0m             \u001b[38;5;28mprint\u001b[39m(url)\n\u001b[1;32m---> 48\u001b[0m \u001b[43masyncio\u001b[49m\u001b[38;5;241;43m.\u001b[39;49m\u001b[43mrun\u001b[49m\u001b[43m(\u001b[49m\u001b[43mrun_agent\u001b[49m\u001b[43m(\u001b[49m\u001b[43m)\u001b[49m\u001b[43m)\u001b[49m\n",
      "File \u001b[1;32mc:\\Users\\FahRe\\Desktop\\agentic-LLM-app\\.venv\\Lib\\site-packages\\nest_asyncio.py:30\u001b[0m, in \u001b[0;36m_patch_asyncio.<locals>.run\u001b[1;34m(main, debug)\u001b[0m\n\u001b[0;32m     28\u001b[0m task \u001b[38;5;241m=\u001b[39m asyncio\u001b[38;5;241m.\u001b[39mensure_future(main)\n\u001b[0;32m     29\u001b[0m \u001b[38;5;28;01mtry\u001b[39;00m:\n\u001b[1;32m---> 30\u001b[0m     \u001b[38;5;28;01mreturn\u001b[39;00m \u001b[43mloop\u001b[49m\u001b[38;5;241;43m.\u001b[39;49m\u001b[43mrun_until_complete\u001b[49m\u001b[43m(\u001b[49m\u001b[43mtask\u001b[49m\u001b[43m)\u001b[49m\n\u001b[0;32m     31\u001b[0m \u001b[38;5;28;01mfinally\u001b[39;00m:\n\u001b[0;32m     32\u001b[0m     \u001b[38;5;28;01mif\u001b[39;00m \u001b[38;5;129;01mnot\u001b[39;00m task\u001b[38;5;241m.\u001b[39mdone():\n",
      "File \u001b[1;32mc:\\Users\\FahRe\\Desktop\\agentic-LLM-app\\.venv\\Lib\\site-packages\\nest_asyncio.py:98\u001b[0m, in \u001b[0;36m_patch_loop.<locals>.run_until_complete\u001b[1;34m(self, future)\u001b[0m\n\u001b[0;32m     95\u001b[0m \u001b[38;5;28;01mif\u001b[39;00m \u001b[38;5;129;01mnot\u001b[39;00m f\u001b[38;5;241m.\u001b[39mdone():\n\u001b[0;32m     96\u001b[0m     \u001b[38;5;28;01mraise\u001b[39;00m \u001b[38;5;167;01mRuntimeError\u001b[39;00m(\n\u001b[0;32m     97\u001b[0m         \u001b[38;5;124m'\u001b[39m\u001b[38;5;124mEvent loop stopped before Future completed.\u001b[39m\u001b[38;5;124m'\u001b[39m)\n\u001b[1;32m---> 98\u001b[0m \u001b[38;5;28;01mreturn\u001b[39;00m \u001b[43mf\u001b[49m\u001b[38;5;241;43m.\u001b[39;49m\u001b[43mresult\u001b[49m\u001b[43m(\u001b[49m\u001b[43m)\u001b[49m\n",
      "File \u001b[1;32m~\\AppData\\Local\\Programs\\Python\\Python312\\Lib\\asyncio\\futures.py:203\u001b[0m, in \u001b[0;36mFuture.result\u001b[1;34m(self)\u001b[0m\n\u001b[0;32m    201\u001b[0m \u001b[38;5;28mself\u001b[39m\u001b[38;5;241m.\u001b[39m__log_traceback \u001b[38;5;241m=\u001b[39m \u001b[38;5;28;01mFalse\u001b[39;00m\n\u001b[0;32m    202\u001b[0m \u001b[38;5;28;01mif\u001b[39;00m \u001b[38;5;28mself\u001b[39m\u001b[38;5;241m.\u001b[39m_exception \u001b[38;5;129;01mis\u001b[39;00m \u001b[38;5;129;01mnot\u001b[39;00m \u001b[38;5;28;01mNone\u001b[39;00m:\n\u001b[1;32m--> 203\u001b[0m     \u001b[38;5;28;01mraise\u001b[39;00m \u001b[38;5;28mself\u001b[39m\u001b[38;5;241m.\u001b[39m_exception\u001b[38;5;241m.\u001b[39mwith_traceback(\u001b[38;5;28mself\u001b[39m\u001b[38;5;241m.\u001b[39m_exception_tb)\n\u001b[0;32m    204\u001b[0m \u001b[38;5;28;01mreturn\u001b[39;00m \u001b[38;5;28mself\u001b[39m\u001b[38;5;241m.\u001b[39m_result\n",
      "File \u001b[1;32m~\\AppData\\Local\\Programs\\Python\\Python312\\Lib\\asyncio\\tasks.py:314\u001b[0m, in \u001b[0;36mTask.__step_run_and_handle_result\u001b[1;34m(***failed resolving arguments***)\u001b[0m\n\u001b[0;32m    310\u001b[0m \u001b[38;5;28;01mtry\u001b[39;00m:\n\u001b[0;32m    311\u001b[0m     \u001b[38;5;28;01mif\u001b[39;00m exc \u001b[38;5;129;01mis\u001b[39;00m \u001b[38;5;28;01mNone\u001b[39;00m:\n\u001b[0;32m    312\u001b[0m         \u001b[38;5;66;03m# We use the `send` method directly, because coroutines\u001b[39;00m\n\u001b[0;32m    313\u001b[0m         \u001b[38;5;66;03m# don't have `__iter__` and `__next__` methods.\u001b[39;00m\n\u001b[1;32m--> 314\u001b[0m         result \u001b[38;5;241m=\u001b[39m \u001b[43mcoro\u001b[49m\u001b[38;5;241;43m.\u001b[39;49m\u001b[43msend\u001b[49m\u001b[43m(\u001b[49m\u001b[38;5;28;43;01mNone\u001b[39;49;00m\u001b[43m)\u001b[49m\n\u001b[0;32m    315\u001b[0m     \u001b[38;5;28;01melse\u001b[39;00m:\n\u001b[0;32m    316\u001b[0m         result \u001b[38;5;241m=\u001b[39m coro\u001b[38;5;241m.\u001b[39mthrow(exc)\n",
      "Cell \u001b[1;32mIn[12], line 37\u001b[0m, in \u001b[0;36mrun_agent\u001b[1;34m()\u001b[0m\n\u001b[0;32m     35\u001b[0m result \u001b[38;5;241m=\u001b[39m \u001b[38;5;28;01mawait\u001b[39;00m Runner\u001b[38;5;241m.\u001b[39mrun(combined_agent, \u001b[38;5;28minput\u001b[39m\u001b[38;5;241m=\u001b[39m\u001b[38;5;124m\"\u001b[39m\u001b[38;5;124mWelche Nebenwirkungen hat Dafalgan?\u001b[39m\u001b[38;5;124m\"\u001b[39m)\n\u001b[0;32m     36\u001b[0m \u001b[38;5;28mprint\u001b[39m(result\u001b[38;5;241m.\u001b[39mfinal_output)\n\u001b[1;32m---> 37\u001b[0m \u001b[38;5;28;01mfor\u001b[39;00m item \u001b[38;5;129;01min\u001b[39;00m \u001b[43mresult\u001b[49m\u001b[38;5;241;43m.\u001b[39;49m\u001b[43moutput_items\u001b[49m:\n\u001b[0;32m     38\u001b[0m     \u001b[38;5;28;01mif\u001b[39;00m \u001b[38;5;28mhasattr\u001b[39m(item, \u001b[38;5;124m\"\u001b[39m\u001b[38;5;124mannotations\u001b[39m\u001b[38;5;124m\"\u001b[39m):\n\u001b[0;32m     39\u001b[0m         \u001b[38;5;28;01mfor\u001b[39;00m ann \u001b[38;5;129;01min\u001b[39;00m item\u001b[38;5;241m.\u001b[39mannotations:\n",
      "\u001b[1;31mAttributeError\u001b[0m: 'RunResult' object has no attribute 'output_items'"
     ]
    }
   ],
   "source": [
    "from agents import Agent, Runner\n",
    "from backend.app.tools.compendium_api_tool_openai import compendium_api_tool\n",
    "from agents import Agent, Runner\n",
    "from agents import Agent, WebSearchTool\n",
    "\n",
    "compendium_web_agent = Agent(\n",
    "    name=\"CompendiumWebAgent\",\n",
    "    instructions=(\n",
    "        \"Beantworte Fragen ausschließlich mit Informationen von Compendium.ch. \"\n",
    "        \"Wenn du keine passenden Informationen findest, sage das bitte deutlich.\"\n",
    "    ),\n",
    "    model=\"gpt-4o\",\n",
    "    tools=[WebSearchTool()],\n",
    ")\n",
    "combined_agent = Agent(\n",
    "    name=\"PharmaAgent\",\n",
    "    instructions=(\n",
    "        \"Beantworte pharmazeutische Fragen mit Compendium.ch Webdaten. \"\n",
    "        \"Wenn dort keine Information verfügbar ist, nutze lokale API-Daten.\"\n",
    "    ),\n",
    "    model=\"gpt-4o\",\n",
    "    tools=[\n",
    "        compendium_web_agent.as_tool(\n",
    "            tool_name=\"compendium_web_search\",\n",
    "            tool_description=\"Durchsucht Compendium.ch über Webzugriff\"\n",
    "        ),\n",
    "        compendium_api_tool,\n",
    "    ],\n",
    ")\n",
    "\n",
    "import asyncio\n",
    "\n",
    "async def run_agent():\n",
    "    urls = []\n",
    "    result = await Runner.run(combined_agent, input=\"Welche Nebenwirkungen hat Dafalgan?\")\n",
    "    print(result.final_output)\n",
    "    for item in result.output_items:\n",
    "        if hasattr(item, \"annotations\"):\n",
    "            for ann in item.annotations:\n",
    "                if ann.type == \"url_citation\" and \"compendium.ch\" in ann.url:\n",
    "                    urls.append(ann.url)\n",
    "    if urls: \n",
    "        print(\"Gefundene URLs:\")\n",
    "        for url in urls:\n",
    "            print(url)\n",
    "\n",
    "\n",
    "asyncio.run(run_agent())\n",
    "\n"
   ]
  },
  {
   "cell_type": "code",
   "execution_count": 17,
   "id": "40a535fd",
   "metadata": {},
   "outputs": [
    {
     "data": {
      "text/markdown": [
       "## 💬 Antwort von Compendium.ch"
      ],
      "text/plain": [
       "<IPython.core.display.Markdown object>"
      ]
     },
     "metadata": {},
     "output_type": "display_data"
    },
    {
     "data": {
      "text/markdown": [
       "Gemäß den Informationen auf Compendium.ch beträgt die empfohlene Dosierung von Dafalgan 500 mg Tabletten für Kinder mit einem Körpergewicht von 30–40 kg (9–12 Jahre) eine Einzeldosis von 1 Tablette, mit einem maximalen Tageslimit von 4 Tabletten. ([compendium.ch](https://compendium.ch/om/product/1552047-dafalgan-tabl-500-mg-neu?utm_source=openai))\n",
       "\n",
       "Für Kinder mit einem Körpergewicht von 22–30 kg (6–9 Jahre) wird eine Einzeldosis von ½–1 Tablette empfohlen, mit einer maximalen Tagesdosis von 3 Tabletten. ([compendium.ch](https://compendium.ch/om/product/1552047-dafalgan-tabl-500-mg-neu?utm_source=openai))\n",
       "\n",
       "Da ein Körpergewicht von 40 kg an der oberen Grenze der 30–40 kg Kategorie liegt, ist die empfohlene Dosierung:\n",
       "\n",
       "- **Einzeldosis:** 1 Tablette (500 mg)\n",
       "\n",
       "- **Maximale Tagesdosis:** 4 Tabletten (entspricht 2 g Paracetamol)\n",
       "\n",
       "Zwischen den Einzeldosen sollte ein Abstand von 6–8 Stunden eingehalten werden. ([compendium.ch](https://compendium.ch/om/product/1552047-dafalgan-tabl-500-mg-neu?utm_source=openai))\n",
       "\n",
       "Bitte beachten Sie, dass die maximale kontinuierliche Anwendungsdauer ohne ärztliche Konsultation für Kinder bis 12 Jahre 3 Tage beträgt. ([compendium.ch](https://compendium.ch/om/product/1552047-dafalgan-tabl-500-mg-neu?utm_source=openai))\n",
       "\n",
       "Es ist wichtig, die angegebene Dosierung nicht zu überschreiten und bei Unsicherheiten oder anhaltenden Beschwerden einen Arzt oder Apotheker zu konsultieren."
      ],
      "text/plain": [
       "<IPython.core.display.Markdown object>"
      ]
     },
     "metadata": {},
     "output_type": "display_data"
    },
    {
     "data": {
      "text/markdown": [
       "\n",
       "---\n",
       "\n",
       "## 🔗 Quellen:\n"
      ],
      "text/plain": [
       "<IPython.core.display.Markdown object>"
      ]
     },
     "metadata": {},
     "output_type": "display_data"
    },
    {
     "data": {
      "text/markdown": [
       "- [compendium.ch](https://compendium.ch/om/product/1552047-dafalgan-tabl-500-mg-neu?utm_source=openai)"
      ],
      "text/plain": [
       "<IPython.core.display.Markdown object>"
      ]
     },
     "metadata": {},
     "output_type": "display_data"
    }
   ],
   "source": [
    "import nest_asyncio\n",
    "import asyncio\n",
    "nest_asyncio.apply()\n",
    "\n",
    "from agents import Agent, WebSearchTool, Runner\n",
    "from IPython.display import display, Markdown\n",
    "\n",
    "# Define the agent\n",
    "compendium_web_agent = Agent(\n",
    "    name=\"CompendiumWebAgent\",\n",
    "    model=\"gpt-4o\",\n",
    "    instructions=(\n",
    "        \"Beantworte medizinische Fragen ausschließlich basierend auf Informationen von Compendium.ch. \"\n",
    "        \"Wenn keine zuverlässige Information auf Compendium.ch gefunden wird, sage dies explizit.\"\n",
    "    ),\n",
    "    tools=[WebSearchTool()],\n",
    ")\n",
    "\n",
    "# The query\n",
    "query = \"Was ist standarddosierung von Dafalgan Tabl 500mg bei einem körpergewicht von 40kg?\"\n",
    "\n",
    "# Async wrapper (Jupyter-safe)\n",
    "async def run_in_jupyter():\n",
    "    result = await Runner.run(compendium_web_agent, input=query)\n",
    "    output = result.final_output\n",
    "\n",
    "    # Gather compendium.ch links from annotations if present\n",
    "    links = set()\n",
    "\n",
    "    # Check final_response annotations\n",
    "    if hasattr(result, \"final_response\") and result.final_response and hasattr(result.final_response, \"annotations\"):\n",
    "        for ann in result.final_response.annotations:\n",
    "            if getattr(ann, \"type\", \"\") == \"url_citation\" and \"compendium.ch\" in ann.url:\n",
    "                links.add(ann.url)\n",
    "\n",
    "    # Fallback: search for compendium.ch in the output itself\n",
    "    import re\n",
    "    found_links = re.findall(r\"https?://(?:www\\.)?compendium\\.ch[^\\s\\)]*\", output)\n",
    "    links.update(found_links)\n",
    "\n",
    "    return output, sorted(links)\n",
    "\n",
    "# Run inside existing event loop\n",
    "output_text, links = await run_in_jupyter()\n",
    "\n",
    "# Display improved output\n",
    "display(Markdown(\"## 💬 Antwort von Compendium.ch\"))\n",
    "\n",
    "# Format answer with paragraph spacing\n",
    "cleaned_output = \"\\n\\n\".join(line.strip() for line in output_text.strip().split(\"\\n\") if line)\n",
    "display(Markdown(cleaned_output))\n",
    "\n",
    "# Show sources\n",
    "if links:\n",
    "    display(Markdown(\"\\n---\\n\\n## 🔗 Quellen:\\n\"))\n",
    "    for url in links:\n",
    "        display(Markdown(f\"- [compendium.ch]({url})\"))\n",
    "else:\n",
    "    display(Markdown(\"\\n---\\n\\n⚠️ **Hinweis:** Es wurden keine direkten Quellen von [compendium.ch](https://compendium.ch) gefunden.\"))\n",
    "\n"
   ]
  }
 ],
 "metadata": {
  "kernelspec": {
   "display_name": ".venv",
   "language": "python",
   "name": "python3"
  },
  "language_info": {
   "codemirror_mode": {
    "name": "ipython",
    "version": 3
   },
   "file_extension": ".py",
   "mimetype": "text/x-python",
   "name": "python",
   "nbconvert_exporter": "python",
   "pygments_lexer": "ipython3",
   "version": "3.12.5"
  }
 },
 "nbformat": 4,
 "nbformat_minor": 5
}
