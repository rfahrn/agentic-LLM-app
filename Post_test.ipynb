{
 "cells": [
  {
   "cell_type": "code",
   "execution_count": null,
   "id": "d4b13447",
   "metadata": {},
   "outputs": [
    {
     "name": "stdout",
     "output_type": "stream",
     "text": [
      "         poan8    podoco  po56paknr  po56dtrfpl\n",
      "0     11384479  25067479    7495328      125136\n",
      "1     11334986  25067369    7495349      125136\n",
      "2     11385178  25063299    7495392      125136\n",
      "3     11270285  25068198    7495394      125136\n",
      "4     11381187  25068010    7495421      125136\n",
      "...        ...       ...        ...         ...\n",
      "2029  11067430  25068876    7495942      125139\n",
      "2030  11059208  25069809    7496440      125139\n",
      "2031  11347925  25069682    7496496      125139\n",
      "2032  11342615  25070043    7496585      125139\n",
      "2033  11311178  25069398    7496655      125139\n",
      "\n",
      "[2034 rows x 4 columns]\n"
     ]
    }
   ],
   "source": [
    "import pyodbc\n",
    "from dotenv import load_dotenv\n",
    "load_dotenv()\n",
    "import os\n",
    "import pandas as pd\n",
    "\n",
    "server = os.getenv(\"MSQL_Server\")  \n",
    "database = 'SAS'\n",
    "username = os.getenv(\"USERNAME\")\n",
    "password = os.getenv(\"PWD\")\n",
    "\n",
    "conn_str = (\n",
    "    f'DRIVER={{SQL Server}};'\n",
    "    f'SERVER={server};'\n",
    "    f'DATABASE={database};'\n",
    "    f'Trusted_Connection=yes;')\n",
    "conn = pyodbc.connect(conn_str)\n",
    "cursor = conn.cursor()\n",
    "\n",
    "cursor.execute(\"SELECT * FROM [SAS].[dbo].[F564205A]\")\n",
    "rows = cursor.fetchall()\n",
    "\n",
    "df = pd.DataFrame.from_records(rows, columns=[desc[0] for desc in cursor.description])\n",
    "\n",
    "print(df)\n",
    "cursor.close()\n",
    "conn.close()\n"
   ]
  },
  {
   "cell_type": "code",
   "execution_count": null,
   "id": "6d486553",
   "metadata": {},
   "outputs": [
    {
     "ename": "Error",
     "evalue": "('IM014', '[IM014] [Microsoft][ODBC Driver Manager] Der angegebene DSN weist eine nicht übereinstimmende Architektur von Treiber und Anwendung auf. (0) (SQLDriverConnect)')",
     "output_type": "error",
     "traceback": [
      "\u001b[1;31m---------------------------------------------------------------------------\u001b[0m",
      "\u001b[1;31mError\u001b[0m                                     Traceback (most recent call last)",
      "Cell \u001b[1;32mIn[28], line 9\u001b[0m\n\u001b[0;32m      6\u001b[0m server \u001b[38;5;241m=\u001b[39m \u001b[38;5;124m'\u001b[39m\u001b[38;5;124mJDEEXT01.MEDISERVICE.CH\u001b[39m\u001b[38;5;124m'\u001b[39m\n\u001b[0;32m      8\u001b[0m conn_str \u001b[38;5;241m=\u001b[39m \u001b[38;5;124mf\u001b[39m\u001b[38;5;124m'\u001b[39m\u001b[38;5;124mDSN=\u001b[39m\u001b[38;5;132;01m{\u001b[39;00mdsn\u001b[38;5;132;01m}\u001b[39;00m\u001b[38;5;124m;UID=\u001b[39m\u001b[38;5;132;01m{\u001b[39;00muser\u001b[38;5;132;01m}\u001b[39;00m\u001b[38;5;124m;PWD=\u001b[39m\u001b[38;5;132;01m{\u001b[39;00mpassword\u001b[38;5;132;01m}\u001b[39;00m\u001b[38;5;124m;Server=\u001b[39m\u001b[38;5;132;01m{\u001b[39;00mserver\u001b[38;5;132;01m}\u001b[39;00m\u001b[38;5;124m'\u001b[39m\n\u001b[1;32m----> 9\u001b[0m conn \u001b[38;5;241m=\u001b[39m \u001b[43mpyodbc\u001b[49m\u001b[38;5;241;43m.\u001b[39;49m\u001b[43mconnect\u001b[49m\u001b[43m(\u001b[49m\u001b[43mconn_str\u001b[49m\u001b[43m)\u001b[49m\n\u001b[0;32m     11\u001b[0m cursor \u001b[38;5;241m=\u001b[39m conn\u001b[38;5;241m.\u001b[39mcursor()\n\u001b[0;32m     14\u001b[0m cursor\u001b[38;5;241m.\u001b[39mexecute(\u001b[38;5;124m\"\u001b[39m\u001b[38;5;124mSELECT * FROM PROXY_JDE11_PRODDTA.ATC_CODES\u001b[39m\u001b[38;5;124m\"\u001b[39m)\n",
      "\u001b[1;31mError\u001b[0m: ('IM014', '[IM014] [Microsoft][ODBC Driver Manager] Der angegebene DSN weist eine nicht übereinstimmende Architektur von Treiber und Anwendung auf. (0) (SQLDriverConnect)')"
     ]
    }
   ],
   "source": [
    "import pyodbc\n",
    "\n",
    "dsn = 'SAS'\n",
    "user = 'SAS'\n",
    "password = 'welcome'\n",
    "server = 'JDEEXT01.MEDISERVICE.CH'\n",
    "\n",
    "conn_str = f'DSN={dsn};UID={user};PWD={password};Server={server}'\n",
    "conn = pyodbc.connect(conn_str)\n",
    "\n",
    "cursor = conn.cursor()\n",
    "cursor.execute(\"SELECT * FROM PROXY_JDE11_PRODDTA.ATC_CODES\")\n",
    "for row in cursor.fetchall():\n",
    "    print(row)\n",
    "\n",
    "cursor.close()\n",
    "conn.close()\n"
   ]
  }
 ],
 "metadata": {
  "kernelspec": {
   "display_name": ".venv",
   "language": "python",
   "name": "python3"
  },
  "language_info": {
   "codemirror_mode": {
    "name": "ipython",
    "version": 3
   },
   "file_extension": ".py",
   "mimetype": "text/x-python",
   "name": "python",
   "nbconvert_exporter": "python",
   "pygments_lexer": "ipython3",
   "version": "3.12.5"
  }
 },
 "nbformat": 4,
 "nbformat_minor": 5
}
